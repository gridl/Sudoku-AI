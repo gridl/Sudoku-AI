{
 "cells": [
  {
   "cell_type": "markdown",
   "metadata": {
    "deletable": true,
    "editable": true
   },
   "source": [
    "# Sudoku Board coding"
   ]
  },
  {
   "cell_type": "markdown",
   "metadata": {
    "deletable": true,
    "editable": true
   },
   "source": [
    "### Author: Umberto Michelucci (C) 2017 "
   ]
  },
  {
   "cell_type": "markdown",
   "metadata": {
    "deletable": true,
    "editable": true
   },
   "source": [
    "This notebook contains code that can solve any Sudoku with a unique solution in Python. It is written in Python 3 and don't contain any special packages, so you should be able to run it with a pretty standard Python installation (Anaconda for example). It is loosely based on the first project in the Udacity AI Nanodegree. \n",
    "\n",
    "There is a nice discussion on the mathematics behind the Sudoku here: http://www.math.cornell.edu/~mec/Summer2009/Mahmood/Home.html"
   ]
  },
  {
   "cell_type": "markdown",
   "metadata": {
    "deletable": true,
    "editable": true
   },
   "source": [
    "We first start by creating vectors and matrices that contains all the cell names. We will code the name giving to each row a letter and to each column a number."
   ]
  },
  {
   "cell_type": "code",
   "execution_count": 21,
   "metadata": {
    "collapsed": true,
    "deletable": true,
    "editable": true
   },
   "outputs": [],
   "source": [
    "rows = 'ABCDEFGHI'\n",
    "cols = '123456789'"
   ]
  },
  {
   "cell_type": "markdown",
   "metadata": {
    "deletable": true,
    "editable": true
   },
   "source": [
    "We need a helper function, `cross(a, b)`, which, given two strings — a and b — will return the list formed by all the possible concatenations of a letter s in string a with a letter t in string b. In this way we can get each box separately."
   ]
  },
  {
   "cell_type": "code",
   "execution_count": 22,
   "metadata": {
    "collapsed": true,
    "deletable": true,
    "editable": true
   },
   "outputs": [],
   "source": [
    "def cross(a, b):\n",
    "      return [s+t for s in a for t in b]"
   ]
  },
  {
   "cell_type": "markdown",
   "metadata": {
    "deletable": true,
    "editable": true
   },
   "source": [
    "Let's test it with our rows and cols. Each position in our Sudoku board is called a box.\n",
    "Our cross() function will return all the boxes moving from the top to the right, giving the first row, and then passing to the subsequents rows. So it will start with A1 until A9, then go to the second row and give B1 until B9 and so on.\n",
    "\n",
    "Check the image below to understand how each box is called."
   ]
  },
  {
   "cell_type": "markdown",
   "metadata": {
    "deletable": true,
    "editable": true
   },
   "source": [
    "![](sudoku_board_1.png)"
   ]
  },
  {
   "cell_type": "code",
   "execution_count": 23,
   "metadata": {
    "collapsed": false,
    "deletable": true,
    "editable": true
   },
   "outputs": [
    {
     "data": {
      "text/plain": [
       "['A1', 'A2', 'A3', 'A4', 'A5', 'A6', 'A7', 'A8', 'A9', 'B1']"
      ]
     },
     "execution_count": 23,
     "metadata": {},
     "output_type": "execute_result"
    }
   ],
   "source": [
    "boxes = cross(rows,cols)\n",
    "boxes[0:10] # First 10 boxes"
   ]
  },
  {
   "cell_type": "markdown",
   "metadata": {
    "deletable": true,
    "editable": true
   },
   "source": [
    "Now let's find the rows, cols and units. We will need to have dictionaries, beacuse we will use them extensively to find all the peers of a specific unit."
   ]
  },
  {
   "cell_type": "code",
   "execution_count": 24,
   "metadata": {
    "collapsed": true,
    "deletable": true,
    "editable": true
   },
   "outputs": [],
   "source": [
    "row_units = [cross(r, cols) for r in rows]\n",
    "# For example:\n",
    "# row_units[0] = ['A1', 'A2', 'A3', 'A4', 'A5', 'A6', 'A7', 'A8', 'A9']\n",
    "\n",
    "column_units = [cross(rows, c) for c in cols]\n",
    "# For example:\n",
    "# column_units[0] = ['A1', 'B1', 'C1', 'D1', 'E1', 'F1', 'G1', 'H1', 'I1']\n",
    "\n",
    "square_units = [cross(rs, cs) for rs in ('ABC','DEF','GHI') for cs in ('123','456','789')]\n",
    "# For example:\n",
    "# square_units[0] = ['A1', 'A2', 'A3', 'B1', 'B2', 'B3', 'C1', 'C2', 'C3']\n",
    "\n",
    "unitlist = row_units + column_units + square_units\n",
    "\n",
    "units = dict((s, [u for u in unitlist if s in u]) for s in boxes)\n",
    "peers = dict((s, set(sum(units[s],[]))-set([s])) for s in boxes)"
   ]
  },
  {
   "cell_type": "markdown",
   "metadata": {
    "deletable": true,
    "editable": true
   },
   "source": [
    "Note that with peers of a specific box, we intend all the units that are in a unit (the 3x3 box that contains the box), in the column of the box and in the row of the box.\n",
    "\n",
    "In the image all the peers of box B5 are colored in green."
   ]
  },
  {
   "cell_type": "markdown",
   "metadata": {
    "deletable": true,
    "editable": true
   },
   "source": [
    "![](sudoku_peers.png)"
   ]
  },
  {
   "cell_type": "markdown",
   "metadata": {
    "deletable": true,
    "editable": true
   },
   "source": [
    "Let's check the peers of box \"B5\". Remember `peers` is a dictionary."
   ]
  },
  {
   "cell_type": "code",
   "execution_count": 58,
   "metadata": {
    "collapsed": false,
    "deletable": true,
    "editable": true
   },
   "outputs": [
    {
     "data": {
      "text/plain": [
       "{'A4',\n",
       " 'A5',\n",
       " 'A6',\n",
       " 'B1',\n",
       " 'B2',\n",
       " 'B3',\n",
       " 'B4',\n",
       " 'B6',\n",
       " 'B7',\n",
       " 'B8',\n",
       " 'B9',\n",
       " 'C4',\n",
       " 'C5',\n",
       " 'C6',\n",
       " 'D5',\n",
       " 'E5',\n",
       " 'F5',\n",
       " 'G5',\n",
       " 'H5',\n",
       " 'I5'}"
      ]
     },
     "execution_count": 58,
     "metadata": {},
     "output_type": "execute_result"
    }
   ],
   "source": [
    "peers[\"B5\"]"
   ]
  },
  {
   "cell_type": "markdown",
   "metadata": {
    "deletable": true,
    "editable": true
   },
   "source": [
    "# Representation of the puzzle"
   ]
  },
  {
   "cell_type": "markdown",
   "metadata": {
    "deletable": true,
    "editable": true
   },
   "source": [
    "How we can represent a puzzle? The easiest way of doing that is to prepare a string, 81 characters long, with each character representing a box and the digit value the digit appearing in the box itself. We will go from top left to the right and then down. So we will start from \"A1\" and go until \"A9\", then pass to \"B1\" and continues to \"B9\" and so on. To make an example the following puzzle"
   ]
  },
  {
   "cell_type": "markdown",
   "metadata": {},
   "source": [
    "![](sudoku_puzzle1.png)"
   ]
  },
  {
   "cell_type": "markdown",
   "metadata": {},
   "source": [
    "Will have the following representation"
   ]
  },
  {
   "cell_type": "code",
   "execution_count": 60,
   "metadata": {
    "collapsed": false
   },
   "outputs": [],
   "source": [
    "puzzle = '..3.2.6..9..3.5..1..18.64....81.29..7.......8..67.82....26.95..8..2.3..9..5.1.3..'"
   ]
  },
  {
   "cell_type": "markdown",
   "metadata": {},
   "source": [
    "Now we will need to helper functions. One that will display the puzzle (for simplicity) and one to transform this String representation into a dictionary. This will make things later on a lot easier."
   ]
  },
  {
   "cell_type": "markdown",
   "metadata": {
    "deletable": true,
    "editable": true
   },
   "source": [
    "## Helper Functions"
   ]
  },
  {
   "cell_type": "markdown",
   "metadata": {},
   "source": [
    "The next function (`display()`) will display the puzzle in ASCII, making it easy to display results and temporary steps. The function has been taken from code that is coming from Udacity."
   ]
  },
  {
   "cell_type": "code",
   "execution_count": 26,
   "metadata": {
    "collapsed": true,
    "deletable": true,
    "editable": true
   },
   "outputs": [],
   "source": [
    "def display(values):\n",
    "    \"\"\"\n",
    "    Display the values as a 2-D grid.\n",
    "    Input: The sudoku in dictionary form\n",
    "    Output: None\n",
    "    \"\"\"\n",
    "    width = 1+max(len(values[s]) for s in boxes)\n",
    "    line = '+'.join(['-'*(width*3)]*3)\n",
    "    for r in rows:\n",
    "        print(''.join(values[r+c].center(width)+('|' if c in '36' else '')\n",
    "                      for c in cols))\n",
    "        if r in 'CF': print(line)\n"
   ]
  },
  {
   "cell_type": "markdown",
   "metadata": {},
   "source": [
    "The next function we need is a function that converts the string representation into a dictionary. The first function (`grid_values()`) will replace \".\" with \"123456789\", with the idea that where there is an empty cell any digit could appear. This make visualisation good to test partial solutions, but not that good to visualize the puzzle itself. So I have a slightly modified version of the function that will keep the \".\" and not replace it with \"123456789\" (`grid_values_empty()`)."
   ]
  },
  {
   "cell_type": "code",
   "execution_count": 61,
   "metadata": {
    "collapsed": false,
    "deletable": true,
    "editable": true
   },
   "outputs": [],
   "source": [
    "def grid_values(grid):\n",
    "    \"\"\"Convert grid string into {<box>: <value>} dict with '123456789' value for empties.\n",
    "\n",
    "    Args:\n",
    "        grid: Sudoku grid in string form, 81 characters long\n",
    "    Returns:\n",
    "        Sudoku grid in dictionary form:\n",
    "        - keys: Box labels, e.g. 'A1'\n",
    "        - values: Value in corresponding box, e.g. '8', or '123456789' if it is empty.\n",
    "    \"\"\"\n",
    "    values = list(grid)\n",
    "    values = [x if x != '.' else '123456789' for x in values]\n",
    "    return (dict(zip(boxes, values)))\n",
    "\n",
    "def grid_values_empty(grid):\n",
    "    \"\"\"Convert grid string into {<box>: <value>} dict with '.' value for empties.\n",
    "\n",
    "    Args:\n",
    "        grid: Sudoku grid in string form, 81 characters long\n",
    "    Returns:\n",
    "        Sudoku grid in dictionary form:\n",
    "        - keys: Box labels, e.g. 'A1'\n",
    "        - values: Value in corresponding box, e.g. '8', or '.' if it is empty.\n",
    "    \"\"\"\n",
    "    values = list(grid)\n",
    "    #values = [x if x != '.' else '.' for x in values]\n",
    "    return (dict(zip(boxes, values)))"
   ]
  },
  {
   "cell_type": "markdown",
   "metadata": {
    "deletable": true,
    "editable": true
   },
   "source": [
    "Now let's try our helper functions"
   ]
  },
  {
   "cell_type": "code",
   "execution_count": 62,
   "metadata": {
    "collapsed": false,
    "deletable": true,
    "editable": true
   },
   "outputs": [
    {
     "name": "stdout",
     "output_type": "stream",
     "text": [
      "123456789 123456789     3     |123456789     2     123456789 |    6     123456789 123456789 \n",
      "    9     123456789 123456789 |    3     123456789     5     |123456789 123456789     1     \n",
      "123456789 123456789     1     |    8     123456789     6     |    4     123456789 123456789 \n",
      "------------------------------+------------------------------+------------------------------\n",
      "123456789 123456789     8     |    1     123456789     2     |    9     123456789 123456789 \n",
      "    7     123456789 123456789 |123456789 123456789 123456789 |123456789 123456789     8     \n",
      "123456789 123456789     6     |    7     123456789     8     |    2     123456789 123456789 \n",
      "------------------------------+------------------------------+------------------------------\n",
      "123456789 123456789     2     |    6     123456789     9     |    5     123456789 123456789 \n",
      "    8     123456789 123456789 |    2     123456789     3     |123456789 123456789     9     \n",
      "123456789 123456789     5     |123456789     1     123456789 |    3     123456789 123456789 \n"
     ]
    }
   ],
   "source": [
    "sudoku1 = '..3.2.6..9..3.5..1..18.64....81.29..7.......8..67.82....26.95..8..2.3..9..5.1.3..'\n",
    "display(grid_values(sudoku1))"
   ]
  },
  {
   "cell_type": "markdown",
   "metadata": {
    "deletable": true,
    "editable": true
   },
   "source": [
    "And we can display it just with `.` where there is not a digit. Is not useful to our algorithm, but it is useful to humans to visualize it."
   ]
  },
  {
   "cell_type": "code",
   "execution_count": 50,
   "metadata": {
    "collapsed": false,
    "deletable": true,
    "editable": true
   },
   "outputs": [
    {
     "name": "stdout",
     "output_type": "stream",
     "text": [
      ". . 3 |. 2 . |6 . . \n",
      "9 . . |3 . 5 |. . 1 \n",
      ". . 1 |8 . 6 |4 . . \n",
      "------+------+------\n",
      ". . 8 |1 . 2 |9 . . \n",
      "7 . . |. . . |. . 8 \n",
      ". . 6 |7 . 8 |2 . . \n",
      "------+------+------\n",
      ". . 2 |6 . 9 |5 . . \n",
      "8 . . |2 . 3 |. . 9 \n",
      ". . 5 |. 1 . |3 . . \n"
     ]
    }
   ],
   "source": [
    "display(grid_values_empty(sudoku1))"
   ]
  },
  {
   "cell_type": "markdown",
   "metadata": {
    "deletable": true,
    "editable": true
   },
   "source": [
    "This is a quite easy Sudoku. We will try harder ones at the end when we have our algorithm coded."
   ]
  },
  {
   "cell_type": "markdown",
   "metadata": {
    "deletable": true,
    "editable": true
   },
   "source": [
    "# Function to eliminate digits from peers of each box with a single value"
   ]
  },
  {
   "cell_type": "markdown",
   "metadata": {
    "deletable": true,
    "editable": true
   },
   "source": [
    "If a box has a single value in it, we can eliminate that digits to all the peers of that box. Simplifying our puzzle. The function `eliminate()` will do exactly this. This is an example of **constraint propagration**."
   ]
  },
  {
   "cell_type": "code",
   "execution_count": 40,
   "metadata": {
    "collapsed": false,
    "deletable": true,
    "editable": true
   },
   "outputs": [],
   "source": [
    "def eliminate(values):\n",
    "    \"\"\"Eliminate values from peers of each box with a single value.\n",
    "\n",
    "    Go through all the boxes, and whenever there is a box with a single value,\n",
    "    eliminate this value from the set of values of all its peers.\n",
    "\n",
    "    Args:\n",
    "        values: Sudoku in dictionary form.\n",
    "    Returns:\n",
    "        Resulting Sudoku in dictionary form after eliminating values.\n",
    "    \"\"\"\n",
    "    for box,value in values.items():\n",
    "        if len(value) == 1:\n",
    "            # Remove now the value from all the peers. \n",
    "            # So the first thing to do is to loop over all the peers,\n",
    "            # being rows, cols or units\n",
    "            for peer in peers[box]:\n",
    "                values[peer] = values[peer].replace(value, \"\")\n",
    "    return values"
   ]
  },
  {
   "cell_type": "markdown",
   "metadata": {},
   "source": [
    "Remember that Python works, unless you specify otherwise, with references. So the moment you call the function `eliminate()` you will modify your initial dictionary. So keep that in mind. This is also the reason why you will find later on some deepcopy commands in the code."
   ]
  },
  {
   "cell_type": "code",
   "execution_count": 76,
   "metadata": {
    "collapsed": true,
    "deletable": true,
    "editable": true
   },
   "outputs": [],
   "source": [
    "my_initial_sudoku = grid_values('..3.2.6..9..3.5..1..18.64....81.29..7.......8..67.82....26.95..8..2.3..9..5.1.3..')"
   ]
  },
  {
   "cell_type": "code",
   "execution_count": 77,
   "metadata": {
    "collapsed": true,
    "deletable": true,
    "editable": true
   },
   "outputs": [],
   "source": [
    "from copy import deepcopy"
   ]
  },
  {
   "cell_type": "code",
   "execution_count": 78,
   "metadata": {
    "collapsed": false,
    "deletable": true,
    "editable": true
   },
   "outputs": [
    {
     "name": "stdout",
     "output_type": "stream",
     "text": [
      "   45    4578    3   |   9      2      14  |   6     5789    57  \n",
      "   9    24678    47  |   3      47     5   |   78    278     1   \n",
      "   25    257     1   |   8      79     6   |   4    23579   2357 \n",
      "---------------------+---------------------+---------------------\n",
      "  345    345     8   |   1     3456    2   |   9    34567  34567 \n",
      "   7    123459   49  |   59   34569    4   |   1    13456    8   \n",
      "  1345  13459    6   |   7     3459    8   |   2     1345   345  \n",
      "---------------------+---------------------+---------------------\n",
      "  134    1347    2   |   6      8      9   |   5     1478    47  \n",
      "   8     1467    47  |   2      5      3   |   17    1467    9   \n",
      "   6      69     5   |   4      1      7   |   3     268     26  \n"
     ]
    }
   ],
   "source": [
    "my_initial_sudoku\n",
    "my_second_sudoku = deepcopy(my_initial_sudoku)\n",
    "my_second_sudoku = eliminate(my_second_sudoku)\n",
    "display(my_second_sudoku)"
   ]
  },
  {
   "cell_type": "markdown",
   "metadata": {},
   "source": [
    "And we see how our function has already simplified our puzzle enormously! "
   ]
  },
  {
   "cell_type": "markdown",
   "metadata": {
    "deletable": true,
    "editable": true
   },
   "source": [
    "One call to the `eliminate()` function was not enough to solve the puzzle. We will need to work on it a bit more. But we were already able to reduce quite a lot the number of digits we have in the puzzle.\n",
    "\n",
    "This is a simple puzzle, and it can be solved just by applying `eliminate()` several times. You can try and you will see how you get to a solution. Not all sudokus will be so easy. "
   ]
  },
  {
   "cell_type": "markdown",
   "metadata": {
    "deletable": true,
    "editable": true
   },
   "source": [
    "# Function to finalise all values that are the only choice for a box"
   ]
  },
  {
   "cell_type": "markdown",
   "metadata": {},
   "source": [
    "The function we need now, is one that goes through all units, and if in one there a value that fits only in one box, assign the value to this box. This is another example of **constraint propagration**."
   ]
  },
  {
   "cell_type": "code",
   "execution_count": 73,
   "metadata": {
    "collapsed": false,
    "deletable": true,
    "editable": true
   },
   "outputs": [],
   "source": [
    "def only_choice(values):\n",
    "    \"\"\"Finalize all values that are the only choice for a unit.\n",
    "\n",
    "    Go through all the units, and whenever there is a unit with a value\n",
    "    that only fits in one box, assign the value to this box.\n",
    "\n",
    "    Input: Sudoku in dictionary form.\n",
    "    Output: Resulting Sudoku in dictionary form after filling in only choices.\n",
    "    \"\"\"\n",
    "    # TODO: Implement only choice strategy here\n",
    "    for box,value in values.items():\n",
    "        \n",
    "        # Now let's iterate over all digits \n",
    "        # and see if it appears only once\n",
    "        if len(value) > 1: # We only check when the number of digits is > 1\n",
    "            for c in value:\n",
    "                for peer_list in units[box]:\n",
    "                    sm = 0\n",
    "                    for bx in peer_list:\n",
    "                        if c in values[bx]:\n",
    "                            sm += 1\n",
    "                    if (sm == 1):\n",
    "                        values[box] = values[box].replace(value, c)\n",
    "                \n",
    "    return values\n"
   ]
  },
  {
   "cell_type": "code",
   "execution_count": 79,
   "metadata": {
    "collapsed": false,
    "deletable": true,
    "editable": true
   },
   "outputs": [
    {
     "name": "stdout",
     "output_type": "stream",
     "text": [
      "123456789 123456789     3     |123456789     2     123456789 |    6     123456789 123456789 \n",
      "    9     123456789 123456789 |    3     123456789     5     |123456789 123456789     1     \n",
      "123456789 123456789     1     |    8     123456789     6     |    4     123456789 123456789 \n",
      "------------------------------+------------------------------+------------------------------\n",
      "123456789 123456789     8     |    1     123456789     2     |    9     123456789 123456789 \n",
      "    7     123456789 123456789 |123456789 123456789 123456789 |123456789 123456789     8     \n",
      "123456789 123456789     6     |    7     123456789     8     |    2     123456789 123456789 \n",
      "------------------------------+------------------------------+------------------------------\n",
      "123456789 123456789     2     |    6     123456789     9     |    5     123456789 123456789 \n",
      "    8     123456789 123456789 |    2     123456789     3     |123456789 123456789     9     \n",
      "123456789 123456789     5     |123456789     1     123456789 |    3     123456789 123456789 \n"
     ]
    }
   ],
   "source": [
    "display(my_initial_sudoku)"
   ]
  },
  {
   "cell_type": "code",
   "execution_count": 80,
   "metadata": {
    "collapsed": false,
    "deletable": true,
    "editable": true
   },
   "outputs": [
    {
     "name": "stdout",
     "output_type": "stream",
     "text": [
      "   45    4578    3   |   9      2      14  |   6     5789    57  \n",
      "   9    24678    47  |   3      47     5   |   78    278     1   \n",
      "   25    257     1   |   8      79     6   |   4    23579   2357 \n",
      "---------------------+---------------------+---------------------\n",
      "  345    345     8   |   1     3456    2   |   9    34567  34567 \n",
      "   7    123459   49  |   59   34569    4   |   1    13456    8   \n",
      "  1345  13459    6   |   7     3459    8   |   2     1345   345  \n",
      "---------------------+---------------------+---------------------\n",
      "  134    1347    2   |   6      8      9   |   5     1478    47  \n",
      "   8     1467    47  |   2      5      3   |   17    1467    9   \n",
      "   6      69     5   |   4      1      7   |   3     268     26  \n"
     ]
    }
   ],
   "source": [
    "tmp = deepcopy(my_second_sudoku)\n",
    "display(my_second_sudoku)\n"
   ]
  },
  {
   "cell_type": "code",
   "execution_count": 81,
   "metadata": {
    "collapsed": false,
    "deletable": true,
    "editable": true
   },
   "outputs": [
    {
     "name": "stdout",
     "output_type": "stream",
     "text": [
      "  45   4578   3   |  9     2     1   |  6    5789   57  \n",
      "  9     6     47  |  3     4     5   |  8     2     1   \n",
      "  2    257    1   |  8     7     6   |  4     9     3   \n",
      "------------------+------------------+------------------\n",
      " 345   345    8   |  1    3456   2   |  9   34567 34567 \n",
      "  7     2     9   |  5   34569   4   |  1   13456   8   \n",
      " 1345 13459   6   |  7    3459   8   |  2    1345  345  \n",
      "------------------+------------------+------------------\n",
      " 134   1347   2   |  6     8     9   |  5    1478   47  \n",
      "  8    1467   47  |  2     5     3   |  7    1467   9   \n",
      "  6     9     5   |  4     1     7   |  3     8     2   \n"
     ]
    }
   ],
   "source": [
    "tmp2 = deepcopy(tmp)\n",
    "display(only_choice(tmp2))"
   ]
  },
  {
   "cell_type": "markdown",
   "metadata": {},
   "source": [
    "And as you can check we have simplifed further our puzzle, but we are not yet at the solution. "
   ]
  },
  {
   "cell_type": "markdown",
   "metadata": {
    "deletable": true,
    "editable": true
   },
   "source": [
    "# Iteration of the two previous steps"
   ]
  },
  {
   "cell_type": "markdown",
   "metadata": {},
   "source": [
    "Now what we can do is we can iterate our previous steps several times to try to get to a solution. We will need to put some check to know if we are at a solution or we stalled. In both case we need to stop. The function `reduce_puzzle()` will do exactly this. This is a **constraint propagation** example. We do it several times since after each iteration our puzzle changes and we can simplify it a bit more."
   ]
  },
  {
   "cell_type": "code",
   "execution_count": 85,
   "metadata": {
    "collapsed": true,
    "deletable": true,
    "editable": true
   },
   "outputs": [],
   "source": [
    "def reduce_puzzle(values):\n",
    "    stalled = False\n",
    "    while not stalled:\n",
    "        # Check how many boxes have a determined value\n",
    "        solved_values_before = len([box for box in values.keys() if len(values[box]) == 1])\n",
    "\n",
    "        eliminate(values)\n",
    "        only_choice(values)\n",
    "        \n",
    "        # Are we finished yet?\n",
    "        solved_values_after = len([box for box in values.keys() if len(values[box]) == 1])\n",
    "        # If no new values were added, stop the loop.\n",
    "        stalled = solved_values_before == solved_values_after\n",
    "        # Sanity check, return False if there is a box with zero available values:\n",
    "        # Note: this will happen when using the search method. While searching\n",
    "        # for a solution, in a case where there are no solutions, what will happen\n",
    "        # is that the eliminate() function will remove all the digits from a box, telling\n",
    "        # us that there is no solution. This will be useful when writing the recursive function\n",
    "        # search()\n",
    "        if len([box for box in values.keys() if len(values[box]) == 0]):\n",
    "            return False\n",
    "    return values\n"
   ]
  },
  {
   "cell_type": "markdown",
   "metadata": {},
   "source": [
    "Let's try now to use our function and see if we get to a solution. Let's consider the following puzzle"
   ]
  },
  {
   "cell_type": "code",
   "execution_count": 82,
   "metadata": {
    "collapsed": false
   },
   "outputs": [
    {
     "name": "stdout",
     "output_type": "stream",
     "text": [
      ". . 3 |. 2 . |6 . . \n",
      "9 . . |3 . 5 |. . 1 \n",
      ". . 1 |8 . 6 |4 . . \n",
      "------+------+------\n",
      ". . 8 |1 . 2 |9 . . \n",
      "7 . . |. . . |. . 8 \n",
      ". . 6 |7 . 8 |2 . . \n",
      "------+------+------\n",
      ". . 2 |6 . 9 |5 . . \n",
      "8 . . |2 . 3 |. . 9 \n",
      ". . 5 |. 1 . |3 . . \n"
     ]
    }
   ],
   "source": [
    "tmp = grid_values('..3.2.6..9..3.5..1..18.64....81.29..7.......8..67.82....26.95..8..2.3..9..5.1.3..')\n",
    "display(grid_values_empty('..3.2.6..9..3.5..1..18.64....81.29..7.......8..67.82....26.95..8..2.3..9..5.1.3..'))"
   ]
  },
  {
   "cell_type": "code",
   "execution_count": 86,
   "metadata": {
    "collapsed": false,
    "deletable": true,
    "editable": true
   },
   "outputs": [
    {
     "name": "stdout",
     "output_type": "stream",
     "text": [
      "4 8 3 |9 2 1 |6 5 7 \n",
      "9 6 7 |3 4 5 |8 2 1 \n",
      "2 5 1 |8 7 6 |4 9 3 \n",
      "------+------+------\n",
      "5 4 8 |1 3 2 |9 7 6 \n",
      "7 2 9 |5 6 4 |1 3 8 \n",
      "1 3 6 |7 9 8 |2 4 5 \n",
      "------+------+------\n",
      "3 7 2 |6 8 9 |5 1 4 \n",
      "8 1 4 |2 5 3 |7 6 9 \n",
      "6 9 5 |4 1 7 |3 8 2 \n"
     ]
    }
   ],
   "source": [
    "display(reduce_puzzle(tmp2))"
   ]
  },
  {
   "cell_type": "markdown",
   "metadata": {},
   "source": [
    "In this case we get a nice solution immediately, without the need of implementing more sophisticated algorithm (we will need for more difficult puzzles, that is what we will do in the next sections)."
   ]
  },
  {
   "cell_type": "markdown",
   "metadata": {
    "deletable": true,
    "editable": true
   },
   "source": [
    "# Most difficult Sudoku - Can only constraint propagation solve it?"
   ]
  },
  {
   "cell_type": "markdown",
   "metadata": {},
   "source": [
    "Now we can get what is considered the most difficult Sudoku (http://www.conceptispuzzles.com/de/index.aspx?uri=info/article/424) and try to apply our **constraing propagration** and see if we can solve it."
   ]
  },
  {
   "cell_type": "code",
   "execution_count": 90,
   "metadata": {
    "collapsed": false,
    "deletable": true,
    "editable": true
   },
   "outputs": [
    {
     "name": "stdout",
     "output_type": "stream",
     "text": [
      "    8     123456789 123456789 |123456789 123456789 123456789 |123456789 123456789 123456789 \n",
      "123456789 123456789     3     |    6     123456789 123456789 |123456789 123456789 123456789 \n",
      "123456789     7     123456789 |123456789     9     123456789 |    2     123456789 123456789 \n",
      "------------------------------+------------------------------+------------------------------\n",
      "123456789     5     123456789 |123456789 123456789     7     |123456789 123456789 123456789 \n",
      "123456789 123456789 123456789 |123456789     4         5     |    7     123456789 123456789 \n",
      "123456789 123456789 123456789 |    1     123456789 123456789 |123456789     3     123456789 \n",
      "------------------------------+------------------------------+------------------------------\n",
      "123456789 123456789     1     |123456789 123456789 123456789 |123456789     6         8     \n",
      "123456789 123456789     8     |    5     123456789 123456789 |123456789     1     123456789 \n",
      "123456789     9     123456789 |123456789 123456789 123456789 |    4     123456789 123456789 \n"
     ]
    }
   ],
   "source": [
    "sud = grid_values('8..........36......7..9.2...5...7.......457.....1...3...1....68..85...1..9....4..')\n",
    "display(sud)"
   ]
  },
  {
   "cell_type": "markdown",
   "metadata": {},
   "source": [
    "We can display it with \".\" where there are no digits."
   ]
  },
  {
   "cell_type": "code",
   "execution_count": 91,
   "metadata": {
    "collapsed": false,
    "deletable": true,
    "editable": true,
    "scrolled": true
   },
   "outputs": [
    {
     "name": "stdout",
     "output_type": "stream",
     "text": [
      "8 . . |. . . |. . . \n",
      ". . 3 |6 . . |. . . \n",
      ". 7 . |. 9 . |2 . . \n",
      "------+------+------\n",
      ". 5 . |. . 7 |. . . \n",
      ". . . |. 4 5 |7 . . \n",
      ". . . |1 . . |. 3 . \n",
      "------+------+------\n",
      ". . 1 |. . . |. 6 8 \n",
      ". . 8 |5 . . |. 1 . \n",
      ". 9 . |. . . |4 . . \n"
     ]
    }
   ],
   "source": [
    "display(grid_values_empty('8..........36......7..9.2...5...7.......457.....1...3...1....68..85...1..9....4..'))"
   ]
  },
  {
   "cell_type": "code",
   "execution_count": 89,
   "metadata": {
    "collapsed": false,
    "deletable": true,
    "editable": true
   },
   "outputs": [
    {
     "name": "stdout",
     "output_type": "stream",
     "text": [
      "   8      1246   24569  |  2347   12357    1234  | 13569    4579  1345679 \n",
      " 12459    124      3    |   6     12578    1248  |  1589   45789   14579  \n",
      "  1456     7      456   |  348      9      1348  |   2      458    13456  \n",
      "------------------------+------------------------+------------------------\n",
      " 123469    5      2469  |  2389    2368     7    |  1689    2489   12469  \n",
      " 12369   12368    269   |  2389     4       5    |   7      289     1269  \n",
      " 24679    2468   24679  |   1      268     2689  |  5689     3     24569  \n",
      "------------------------+------------------------+------------------------\n",
      " 23457    234      1    | 23479    237     2349  |  359      6       8    \n",
      " 23467    2346     8    |   5      2367   23469  |   39      1      2379  \n",
      " 23567     9      2567  |  2378   123678  12368  |   4      257     2357  \n"
     ]
    }
   ],
   "source": [
    "display(reduce_puzzle(sud))"
   ]
  },
  {
   "cell_type": "markdown",
   "metadata": {},
   "source": [
    "As you can see, we don't get a solution. In many boxes there are several values that are possible. So we need to implement a more sophisticated algorithm (in a particular a search algorithm). "
   ]
  },
  {
   "cell_type": "markdown",
   "metadata": {
    "deletable": true,
    "editable": true
   },
   "source": [
    "# A search algorithm"
   ]
  },
  {
   "cell_type": "markdown",
   "metadata": {},
   "source": [
    "The idea to solve the puzzle is to choose a box with more than one digit in it. Choose one of the digit and assume that in that box there is only _that_ digit and try to solve the puzzle. If that does not work try with the other digits.\n",
    "\n",
    "For example for the puzzle given above, you could choose box \"H7\" where only the digits 39 are available. So one could assume that in \"H7\" there is a 3 and try to solve the puzzle with our **constraint propagration** functions. We need to write a recursive function, since what will happen is that all the possibilities are structured as a tree, and we need to go over all the branches to find a solution. \n",
    "\n",
    "The next function is doing exactly that."
   ]
  },
  {
   "cell_type": "code",
   "execution_count": 94,
   "metadata": {
    "collapsed": true,
    "deletable": true,
    "editable": true
   },
   "outputs": [],
   "source": [
    "def search(values):\n",
    "    \"Using depth-first search and propagation, create a search tree and solve the sudoku.\"\n",
    "    # First, reduce the puzzle using the previous function\n",
    "    values = reduce_puzzle(values)\n",
    "    if values is False:\n",
    "        return False ## Failed earlier\n",
    "    if all(len(values[s]) == 1 for s in boxes): \n",
    "        return values ## Solved!\n",
    "    \n",
    "    # Choose one of the unfilled squares with the fewest possibilities\n",
    "    n,s = min((len(values[s]), s) for s in boxes if len(values[s]) > 1)\n",
    "    # Now use recurrence to solve each one of the resulting sudokus, and \n",
    "    for value in values[s]:\n",
    "        new_sudoku = values.copy()\n",
    "        new_sudoku[s] = value\n",
    "        attempt = search(new_sudoku)\n",
    "        if attempt:\n",
    "            return attempt"
   ]
  },
  {
   "cell_type": "code",
   "execution_count": 95,
   "metadata": {
    "collapsed": false,
    "deletable": true,
    "editable": true
   },
   "outputs": [
    {
     "name": "stdout",
     "output_type": "stream",
     "text": [
      "8 1 2 |7 5 3 |6 4 9 \n",
      "9 4 3 |6 8 2 |1 7 5 \n",
      "6 7 5 |4 9 1 |2 8 3 \n",
      "------+------+------\n",
      "1 5 4 |2 3 7 |8 9 6 \n",
      "3 6 9 |8 4 5 |7 2 1 \n",
      "2 8 7 |1 6 9 |5 3 4 \n",
      "------+------+------\n",
      "5 2 1 |9 7 4 |3 6 8 \n",
      "4 3 8 |5 2 6 |9 1 7 \n",
      "7 9 6 |3 1 8 |4 5 2 \n"
     ]
    }
   ],
   "source": [
    "display(search(sud))"
   ]
  },
  {
   "cell_type": "markdown",
   "metadata": {},
   "source": [
    "As you can see this method will solve the puzzle and can solve all puzzles that have a unique solution. And by the way in \"H7\" there is a 9 not a 3 ;-)"
   ]
  },
  {
   "cell_type": "markdown",
   "metadata": {},
   "source": [
    "As a side note for a Sudoku to have a unique solution it must have 17 hints (check this link from MIT https://www.technologyreview.com/s/426554/mathematicians-solve-minimum-sudoku-problem/). With less you will get multiple solutions."
   ]
  },
  {
   "cell_type": "markdown",
   "metadata": {},
   "source": [
    "# A Sudoku with more than one solution"
   ]
  },
  {
   "cell_type": "markdown",
   "metadata": {},
   "source": [
    "There is a nice example of a Sudoku with more than one solution (check http://sandwalk.blogspot.ch/2007/06/i-knew-it-there-can-be-more-than-one.html). Let's see what our method find..."
   ]
  },
  {
   "cell_type": "code",
   "execution_count": 92,
   "metadata": {
    "collapsed": false
   },
   "outputs": [
    {
     "name": "stdout",
     "output_type": "stream",
     "text": [
      "9 . 6 |. 7 . |4 . 3 \n",
      ". . . |4 . . |2 . . \n",
      ". 7 . |. 2 3 |. 1 . \n",
      "------+------+------\n",
      "5 . . |. . . |1 . . \n",
      ". 4 . |2 . 8 |. 6 . \n",
      ". . 3 |. . . |. . 5 \n",
      "------+------+------\n",
      ". 3 . |7 . . |. 5 . \n",
      ". . 7 |. . 5 |. . . \n",
      "4 . 5 |. 1 . |7 . 8 \n"
     ]
    }
   ],
   "source": [
    "sud_multiple = \"9.6.7.4.3...4..2...7..23.1.5.....1...4.2.8.6...3.....5.3.7...5...7..5...4.5.1.7.8\"\n",
    "display(grid_values_empty(sud_multiple))"
   ]
  },
  {
   "cell_type": "code",
   "execution_count": 97,
   "metadata": {
    "collapsed": false
   },
   "outputs": [
    {
     "name": "stdout",
     "output_type": "stream",
     "text": [
      "9 2 6 |5 7 1 |4 8 3 \n",
      "3 5 1 |4 8 6 |2 7 9 \n",
      "8 7 4 |9 2 3 |5 1 6 \n",
      "------+------+------\n",
      "5 8 2 |3 6 7 |1 9 4 \n",
      "1 4 9 |2 5 8 |3 6 7 \n",
      "7 6 3 |1 4 9 |8 2 5 \n",
      "------+------+------\n",
      "2 3 8 |7 9 4 |6 5 1 \n",
      "6 1 7 |8 3 5 |9 4 2 \n",
      "4 9 5 |6 1 2 |7 3 8 \n"
     ]
    }
   ],
   "source": [
    "display(search(grid_values(sud_multiple)))"
   ]
  },
  {
   "cell_type": "markdown",
   "metadata": {},
   "source": [
    "We find a solution of course, but there is another solution (due to symmetry). Check the link to see the other one. the trick is that our method goes through all the branches and then stops as soon as it finds one. So the method will not notice that the method has two solutions. To see all possible solutions one should memorize the solution and continue to search until all possibilities are exhausted."
   ]
  },
  {
   "cell_type": "code",
   "execution_count": null,
   "metadata": {
    "collapsed": true
   },
   "outputs": [],
   "source": []
  }
 ],
 "metadata": {
  "kernelspec": {
   "display_name": "Python 3",
   "language": "python",
   "name": "python3"
  },
  "language_info": {
   "codemirror_mode": {
    "name": "ipython",
    "version": 3
   },
   "file_extension": ".py",
   "mimetype": "text/x-python",
   "name": "python",
   "nbconvert_exporter": "python",
   "pygments_lexer": "ipython3",
   "version": "3.6.0"
  }
 },
 "nbformat": 4,
 "nbformat_minor": 2
}
